{
  "nbformat": 4,
  "nbformat_minor": 0,
  "metadata": {
    "colab": {
      "name": "Velocidade.ipynb",
      "provenance": []
    },
    "kernelspec": {
      "name": "python3",
      "display_name": "Python 3"
    },
    "language_info": {
      "name": "python"
    }
  },
  "cells": [
    {
      "cell_type": "markdown",
      "metadata": {
        "id": "HhaNs5-GFuru"
      },
      "source": [
        "**Problemão de velocidade!!**"
      ]
    },
    {
      "cell_type": "markdown",
      "metadata": {
        "id": "CX_iDb65GYyE"
      },
      "source": [
        "**Um objeto se move em uma trajetória retilínia de modo que sua posição no eixo x varia de acordo com a seguinte equação: x = 2*t - 3t² + t³. Calcule a velocidade média no intervalo de 0 a 5,0s.**"
      ]
    },
    {
      "cell_type": "code",
      "metadata": {
        "colab": {
          "base_uri": "https://localhost:8080/"
        },
        "id": "C00xMK5fGHVL",
        "outputId": "34611da1-b1c4-4553-ff76-36ace487de81"
      },
      "source": [
        "def x(t):\n",
        "    return 2*t-3*t**2+t**3\n",
        "  \n",
        "  \n",
        "# Agora, informe os valores do tempo inicial e final de acordo com o enunciado\n",
        "ti = 0\n",
        "tf = 5.0\n",
        "\n",
        "print(f\" x({ti}) = {x(ti)} metros e x({tf}) = {x(tf)} metros\")"
      ],
      "execution_count": null,
      "outputs": [
        {
          "output_type": "stream",
          "name": "stdout",
          "text": [
            " x(0) = 0 metros e x(5.0) = 60.0 metros\n"
          ]
        }
      ]
    },
    {
      "cell_type": "markdown",
      "metadata": {
        "id": "DpmFvc-mIYdA"
      },
      "source": [
        "A seguir, é proposto a equação para o cálculo da velocidade média, isto é, a medida do deslocamento ocorrido em um intervalo de tempo."
      ]
    },
    {
      "cell_type": "code",
      "metadata": {
        "colab": {
          "base_uri": "https://localhost:8080/"
        },
        "id": "uixRY9k8G6pf",
        "outputId": "365c0fe0-b863-4095-e529-cf521b267d3a"
      },
      "source": [
        "vm = (x(tf) - x(ti))/(tf - ti)\n",
        "print(f\" vm = {vm} m/s\")"
      ],
      "execution_count": null,
      "outputs": [
        {
          "output_type": "stream",
          "name": "stdout",
          "text": [
            " vm = 12.0 m/s\n"
          ]
        }
      ]
    },
    {
      "cell_type": "markdown",
      "metadata": {
        "id": "nIc-lXe_KSCF"
      },
      "source": [
        "Agora, definimos uma função para o cálculo de velocidade instantânea de acordo com a taxa de variação."
      ]
    },
    {
      "cell_type": "code",
      "metadata": {
        "colab": {
          "base_uri": "https://localhost:8080/"
        },
        "id": "P5YktE31IXfS",
        "outputId": "c80aff00-2e0e-45d4-ef9b-f7e6e96d76e4"
      },
      "source": [
        "def v(t):\n",
        "  h = 1/10**10\n",
        "  coef = (x(t + h) - x(t)) / h\n",
        "  return coef\n",
        "\n",
        "t1 = 2.5\n",
        "print(f\"v({t1}) = {v(t1)} m/s\")"
      ],
      "execution_count": null,
      "outputs": [
        {
          "output_type": "stream",
          "name": "stdout",
          "text": [
            "v(2.5) = 5.750013798433429 m/s\n"
          ]
        }
      ]
    },
    {
      "cell_type": "markdown",
      "metadata": {
        "id": "fOLHtbw0MZ2J"
      },
      "source": [
        "São construídos, a seguir, os gráficos da posição e da velocidade instantânea no intervalo 0 a 5.0 segundos."
      ]
    },
    {
      "cell_type": "code",
      "metadata": {
        "colab": {
          "base_uri": "https://localhost:8080/",
          "height": 279
        },
        "id": "Qlwwgwd5Kmr-",
        "outputId": "a47ee055-3dfa-4d50-e1a7-ced37cc058a9"
      },
      "source": [
        "import numpy as np\n",
        "import matplotlib.pyplot as plt\n",
        "\n",
        "t = np.linspace(0, 5.0)\n",
        "plt.plot(t, x(t), label='posição')\n",
        "plt.plot(t, v(t), label='velocidade')\n",
        "plt.legend()\n",
        "plt.xlabel('t (s)')\n",
        "plt.show()"
      ],
      "execution_count": null,
      "outputs": [
        {
          "output_type": "display_data",
          "data": {
            "image/png": "[encoded data removed]",
            "text/plain": [
              "<Figure size 432x288 with 1 Axes>"
            ]
          },
          "metadata": {
            "needs_background": "light"
          }
        }
      ]
    }
  ]
}